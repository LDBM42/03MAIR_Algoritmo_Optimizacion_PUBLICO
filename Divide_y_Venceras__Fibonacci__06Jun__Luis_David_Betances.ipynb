{
  "nbformat": 4,
  "nbformat_minor": 0,
  "metadata": {
    "colab": {
      "name": "Divide_y_Venceras__Fibonacci__06Jun__Luis_David_Betances.ipynb",
      "provenance": [],
      "collapsed_sections": [],
      "authorship_tag": "ABX9TyMxeOUQQxZUeJxmC/F4aNco",
      "include_colab_link": true
    },
    "kernelspec": {
      "name": "python3",
      "display_name": "Python 3"
    }
  },
  "cells": [
    {
      "cell_type": "markdown",
      "metadata": {
        "id": "view-in-github",
        "colab_type": "text"
      },
      "source": [
        "<a href=\"https://colab.research.google.com/github/LDBM42/03MAIR_Algoritmo_Optimizacion_PUBLICO/blob/master/Divide_y_Venceras__Fibonacci__06Jun__Luis_David_Betances.ipynb\" target=\"_parent\"><img src=\"https://colab.research.google.com/assets/colab-badge.svg\" alt=\"Open In Colab\"/></a>"
      ]
    },
    {
      "cell_type": "markdown",
      "metadata": {
        "id": "46pCjUpFZgRm",
        "colab_type": "text"
      },
      "source": [
        "# Sucesión de Fibonacci"
      ]
    },
    {
      "cell_type": "markdown",
      "metadata": {
        "id": "TwAQ1JBwZpmV",
        "colab_type": "text"
      },
      "source": [
        "## Método Recursivo\n",
        "Este método tiene una complejidad exponencial $O(2^n)$, debido a que por cada llamada a la función se llama de forma recursiva dos veces a la misma función."
      ]
    },
    {
      "cell_type": "markdown",
      "metadata": {
        "id": "wO86inhIcgjo",
        "colab_type": "text"
      },
      "source": [
        "![](http://2.bp.blogspot.com/_si2a--LSDb8/Rw7AaUF8GMI/AAAAAAAAAaA/lBNpQZz4NcE/s1600/arbol.png)\n"
      ]
    },
    {
      "cell_type": "code",
      "metadata": {
        "id": "iewHjMAxcuq6",
        "colab_type": "code",
        "colab": {}
      },
      "source": [
        "def fibo_recursivo(n:int) -> int:\n",
        "  \"\"\"Función Fibonacci (Método Recursivo)\"\"\"\n",
        "  if n < 2: # fibonacci de 0=0 y de 1=1\n",
        "    return n  \n",
        "  else:\n",
        "    # llamada de forma recursiva a la función \n",
        "    resultado = fibo_recursivo(n-1) + fibo_recursivo(n-2)\n",
        "    return resultado "
      ],
      "execution_count": 0,
      "outputs": []
    },
    {
      "cell_type": "code",
      "metadata": {
        "id": "NTI-_dzkeHXJ",
        "colab_type": "code",
        "colab": {
          "base_uri": "https://localhost:8080/",
          "height": 52
        },
        "outputId": "31f2bea5-ed83-4bee-b271-3b3c0802c955"
      },
      "source": [
        "import timeit\n",
        "start = timeit.default_timer()\n",
        "\n",
        "# imprimir fibonacci de 40 (Método Recursivo)\n",
        "print(fibo_recursivo(40))\n",
        "\n",
        "end = timeit.default_timer()\n",
        "print(end-start) # imprimir tiempo de ejecución"
      ],
      "execution_count": 33,
      "outputs": [
        {
          "output_type": "stream",
          "text": [
            "102334155\n",
            "35.382546680999894\n"
          ],
          "name": "stdout"
        }
      ]
    },
    {
      "cell_type": "markdown",
      "metadata": {
        "id": "ybg8J7D6fml3",
        "colab_type": "text"
      },
      "source": [
        "## Método Recursivo (Programación Dinámica)\n",
        "Por medio de ir guardando los estados de cada serie fibonacci anterior, para no tener que volver a calcularla cada vez que se necesite, se puede reducir la complejidad a $O(n)$."
      ]
    },
    {
      "cell_type": "code",
      "metadata": {
        "id": "G6JYXbQFef-1",
        "colab_type": "code",
        "colab": {}
      },
      "source": [
        "def fibo_recursivo_memo(n:int, fibo={}) -> int:  \n",
        "  \"\"\"Función Fibonacci (Método Recursivo con Memoisación)\"\"\"\n",
        "  if n < 2: # fibonacci de 0=0 y de 1=1\n",
        "    return n  \n",
        "  else:\n",
        "    if n in fibo: return fibo[n] # si ya está guardado no lo cálcula\n",
        "    # llamada de forma recursiva a la función \n",
        "    fibo[n] = fibo_recursivo_memo(n-1, fibo) + fibo_recursivo_memo(n-2, fibo)\n",
        "    return fibo[n] "
      ],
      "execution_count": 0,
      "outputs": []
    },
    {
      "cell_type": "code",
      "metadata": {
        "id": "Hm5TTfxAl8dI",
        "colab_type": "code",
        "colab": {
          "base_uri": "https://localhost:8080/",
          "height": 52
        },
        "outputId": "0b3905d5-73b2-4048-b2d6-72a1e6b885f3"
      },
      "source": [
        "import timeit\n",
        "start = timeit.default_timer()\n",
        "\n",
        "# imprimir fibonacci de 40 (Programación Dinámica)\n",
        "print(fibo_recursivo_memo(40))\n",
        "\n",
        "end = timeit.default_timer()\n",
        "print(end-start) # imprimir tiempo de ejecución"
      ],
      "execution_count": 68,
      "outputs": [
        {
          "output_type": "stream",
          "text": [
            "102334155\n",
            "0.001289111000005505\n"
          ],
          "name": "stdout"
        }
      ]
    },
    {
      "cell_type": "markdown",
      "metadata": {
        "id": "BYvfoCiyrH2r",
        "colab_type": "text"
      },
      "source": [
        "## Método Iterativo\n",
        "La complejidad de este método es de $O(n)$ ya que no llama a ninguna función de forma recursiva. Este, aunque tiene el mismo orden de complejidad que el recursivó con programación dínamica, es mas efectivo ya que realiza un menor número de operaciones."
      ]
    },
    {
      "cell_type": "code",
      "metadata": {
        "id": "XTkfs_sumAg-",
        "colab_type": "code",
        "colab": {}
      },
      "source": [
        "def fibo_iter(n:int) -> int:  \n",
        "  \"\"\"Función Fibonacci (Método Iterativo)\"\"\"\n",
        "  res, a, b = 0, 0, 1\n",
        "  if n < 2: # fibonacci de 0=0 y de 1=1\n",
        "    return n\n",
        "  else:    \n",
        "    for i in range(n-1):\n",
        "      res, a, = (a + b), b \n",
        "      b = res\n",
        "    return res"
      ],
      "execution_count": 0,
      "outputs": []
    },
    {
      "cell_type": "code",
      "metadata": {
        "id": "9aT7b4jvtTmy",
        "colab_type": "code",
        "colab": {
          "base_uri": "https://localhost:8080/",
          "height": 52
        },
        "outputId": "de1171ac-418c-4f3a-d172-8785bd8bb950"
      },
      "source": [
        "import timeit\n",
        "start = timeit.default_timer()\n",
        "\n",
        "# imprimir fibonacci de 40 (Método Iterativo)\n",
        "print(fibo_iter(40))\n",
        "\n",
        "end = timeit.default_timer()\n",
        "print(end-start) # imprimir tiempo de ejecución\n"
      ],
      "execution_count": 87,
      "outputs": [
        {
          "output_type": "stream",
          "text": [
            "102334155\n",
            "0.0005643810000037774\n"
          ],
          "name": "stdout"
        }
      ]
    },
    {
      "cell_type": "code",
      "metadata": {
        "id": "cAeSfdEbtXGv",
        "colab_type": "code",
        "colab": {}
      },
      "source": [
        ""
      ],
      "execution_count": 0,
      "outputs": []
    }
  ]
}