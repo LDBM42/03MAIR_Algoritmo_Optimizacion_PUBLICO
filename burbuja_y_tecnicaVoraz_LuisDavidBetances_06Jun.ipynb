{
  "nbformat": 4,
  "nbformat_minor": 0,
  "metadata": {
    "colab": {
      "name": "burbuja_y_tecnicaVoraz_LuisDavidBetances_06Jun.ipynb",
      "provenance": [],
      "collapsed_sections": [],
      "authorship_tag": "ABX9TyPo9JAEgmPn82z1m+uA+mMb"
    },
    "kernelspec": {
      "name": "python3",
      "display_name": "Python 3"
    }
  },
  "cells": [
    {
      "cell_type": "code",
      "metadata": {
        "id": "dEju4bqSsD2n",
        "colab_type": "code",
        "colab": {}
      },
      "source": [
        "# importar librerias a utilizar\n",
        "import numpy as np\n",
        "from random import shuffle\n",
        "import pandas as pd"
      ],
      "execution_count": 0,
      "outputs": []
    },
    {
      "cell_type": "markdown",
      "metadata": {
        "id": "Mi6yx7UjQMEK",
        "colab_type": "text"
      },
      "source": [
        "# Ordenamiento Método Burbuja"
      ]
    },
    {
      "cell_type": "code",
      "metadata": {
        "id": "CCOaMUQOBVOz",
        "colab_type": "code",
        "colab": {}
      },
      "source": [
        "# ORDENACION METODO BURBUJA--------------------------------------------------------------------------\n",
        "def bubble_sorting(lista, descendente=False):\n",
        "  lista = lista.copy()\n",
        "  datos_ordenados = 0\n",
        "  while datos_ordenados < len(lista):  \n",
        "    for i in range(1, len(lista)):\n",
        "      if descendente == False and lista[i] < lista[i-1]: # si el valor i es menor al valor anterior\n",
        "        lista[i], lista[i-1] = lista[i-1], lista[i] # intercambiar valores\n",
        "        datos_ordenados = 0\n",
        "      elif descendente == True and lista[i] > lista[i-1]: # si el valor i es menor al valor anterior\n",
        "        lista[i], lista[i-1] = lista[i-1], lista[i] # intercambiar valores\n",
        "        datos_ordenados = 0\n",
        "      else:\n",
        "        datos_ordenados += 1\n",
        "  return lista\n",
        "#----------------------------------------------------------------------------------------------------"
      ],
      "execution_count": 0,
      "outputs": []
    },
    {
      "cell_type": "code",
      "metadata": {
        "id": "zxLFW4DmBJW_",
        "colab_type": "code",
        "outputId": "b59c00c9-fc1c-4a93-d6ea-a40535385d9f",
        "colab": {
          "base_uri": "https://localhost:8080/",
          "height": 155
        }
      },
      "source": [
        "lista = np.arange(1, 101) # lista de números del 1 al 100\n",
        "lista"
      ],
      "execution_count": 0,
      "outputs": [
        {
          "output_type": "execute_result",
          "data": {
            "text/plain": [
              "array([  1,   2,   3,   4,   5,   6,   7,   8,   9,  10,  11,  12,  13,\n",
              "        14,  15,  16,  17,  18,  19,  20,  21,  22,  23,  24,  25,  26,\n",
              "        27,  28,  29,  30,  31,  32,  33,  34,  35,  36,  37,  38,  39,\n",
              "        40,  41,  42,  43,  44,  45,  46,  47,  48,  49,  50,  51,  52,\n",
              "        53,  54,  55,  56,  57,  58,  59,  60,  61,  62,  63,  64,  65,\n",
              "        66,  67,  68,  69,  70,  71,  72,  73,  74,  75,  76,  77,  78,\n",
              "        79,  80,  81,  82,  83,  84,  85,  86,  87,  88,  89,  90,  91,\n",
              "        92,  93,  94,  95,  96,  97,  98,  99, 100])"
            ]
          },
          "metadata": {
            "tags": []
          },
          "execution_count": 2
        }
      ]
    },
    {
      "cell_type": "code",
      "metadata": {
        "id": "rsImFasAOLwv",
        "colab_type": "code",
        "outputId": "6c246099-7665-4331-fbee-922ef6b6c3a3",
        "colab": {
          "base_uri": "https://localhost:8080/",
          "height": 155
        }
      },
      "source": [
        "shuffle(lista) # mezclar lista\n",
        "print('Lista Desordenada:\\n\\n', lista)"
      ],
      "execution_count": 0,
      "outputs": [
        {
          "output_type": "stream",
          "text": [
            "Lista Desordenada:\n",
            "\n",
            " [ 39  56  89   7  59  35  66  92  34  43  71  12  54  29  93   5   1  38\n",
            "  61  88  82  73  17  11  60  85  98  70  18   9  48  14  49  28  36  19\n",
            "  79  20  67   3  78  33  65  27  62  23  21  63  80   6  94  47  22  81\n",
            "  52  15  53  51  72  86  24  30  44  83 100  55   4  13  99  57  10  50\n",
            "  64  91  58  96  75  74  37   8  40  69  25  32   2  45  76  87  90  95\n",
            "  31  41  84  42  16  26  46  68  77  97]\n"
          ],
          "name": "stdout"
        }
      ]
    },
    {
      "cell_type": "code",
      "metadata": {
        "id": "XXjkAyl8TJwF",
        "colab_type": "code",
        "outputId": "240a6264-ee21-47fe-a06b-730e9a37b61c",
        "colab": {
          "base_uri": "https://localhost:8080/",
          "height": 484
        }
      },
      "source": [
        "lista_asc = bubble_sorting(lista)\n",
        "print('Lista Ordenada Ascendentemente:\\n\\n', lista_asc, '\\n\\n')\n",
        "%time\n",
        "\n",
        "print('\\n\\n')\n",
        "\n",
        "lista_desc = bubble_sorting(lista, descendente=True)\n",
        "print('Lista Ordenada Ascendentemente:\\n\\n', lista_desc, '\\n\\n')\n",
        "%time"
      ],
      "execution_count": 0,
      "outputs": [
        {
          "output_type": "stream",
          "text": [
            "Lista Ordenada Ascendentemente:\n",
            "\n",
            " [  1   2   3   4   5   6   7   8   9  10  11  12  13  14  15  16  17  18\n",
            "  19  20  21  22  23  24  25  26  27  28  29  30  31  32  33  34  35  36\n",
            "  37  38  39  40  41  42  43  44  45  46  47  48  49  50  51  52  53  54\n",
            "  55  56  57  58  59  60  61  62  63  64  65  66  67  68  69  70  71  72\n",
            "  73  74  75  76  77  78  79  80  81  82  83  84  85  86  87  88  89  90\n",
            "  91  92  93  94  95  96  97  98  99 100] \n",
            "\n",
            "\n",
            "CPU times: user 2 µs, sys: 0 ns, total: 2 µs\n",
            "Wall time: 4.77 µs\n",
            "\n",
            "\n",
            "\n",
            "Lista Ordenada Ascendentemente:\n",
            "\n",
            " [100  99  98  97  96  95  94  93  92  91  90  89  88  87  86  85  84  83\n",
            "  82  81  80  79  78  77  76  75  74  73  72  71  70  69  68  67  66  65\n",
            "  64  63  62  61  60  59  58  57  56  55  54  53  52  51  50  49  48  47\n",
            "  46  45  44  43  42  41  40  39  38  37  36  35  34  33  32  31  30  29\n",
            "  28  27  26  25  24  23  22  21  20  19  18  17  16  15  14  13  12  11\n",
            "  10   9   8   7   6   5   4   3   2   1] \n",
            "\n",
            "\n",
            "CPU times: user 2 µs, sys: 0 ns, total: 2 µs\n",
            "Wall time: 5.01 µs\n"
          ],
          "name": "stdout"
        }
      ]
    },
    {
      "cell_type": "markdown",
      "metadata": {
        "id": "FC-4kvNqO08q",
        "colab_type": "text"
      },
      "source": [
        "# Algoritmo Voraz\n",
        "Descomponer cualquier cantidad C de manera que usemos el menor numero de monedas."
      ]
    },
    {
      "cell_type": "code",
      "metadata": {
        "id": "wYYEnl3pQ3jK",
        "colab_type": "code",
        "colab": {}
      },
      "source": [
        "def menor_num_monedas(monedas, c):  \n",
        "  monedas = bubble_sorting(monedas, descendente=True) # ordenar de forma descendente  \n",
        "  resultado = {'moneda':[]}\n",
        "  iteraciones = 0 # para contar las iteraciones \n",
        "  \n",
        "  while sum(resultado['moneda']) != c: # mientras falten monedas para llegar a 'c'    \n",
        "    for moneda in monedas:\n",
        "      iteraciones += 1\n",
        "      if sum(resultado['moneda']) + moneda < c: # si todavía faltan monedas\n",
        "        resultado['moneda'].append(moneda)\n",
        "        break      \n",
        "      elif sum(resultado['moneda']) + moneda == c: # si ya no faltan monedas\n",
        "        resultado['moneda'].append(moneda)        \n",
        "        # retornar Dataframe e iteraciones\n",
        "        resultado_final = pd.DataFrame(resultado)['moneda'].value_counts() # contar cantidad por moneda\n",
        "        resultado_final = resultado_final.sort_index(ascending=False).to_frame('cantidad') # ordenar y convertir a dataframe\n",
        "        resultado_final.index.name = 'moneda' # poner nombre a indices\n",
        "        return iteraciones, resultado_final      \n",
        "      else:\n",
        "        continue  "
      ],
      "execution_count": 0,
      "outputs": []
    },
    {
      "cell_type": "code",
      "metadata": {
        "id": "SzNWUwUyZqib",
        "colab_type": "code",
        "outputId": "08e84a49-b30d-4762-9a8a-f01d1e1a307c",
        "colab": {
          "base_uri": "https://localhost:8080/",
          "height": 263
        }
      },
      "source": [
        "monedas_dominicanas = [1, 5, 10, 20, 25, 50, 100, 200, 500, 1000, 2000]\n",
        "\n",
        "# mostrar resultado e iteraciones\n",
        "i, m = menor_num_monedas(monedas_dominicanas, 5423)\n",
        "display(m)\n",
        "print('\\niteraciones: ', i)"
      ],
      "execution_count": 0,
      "outputs": [
        {
          "output_type": "display_data",
          "data": {
            "text/html": [
              "<div>\n",
              "<style scoped>\n",
              "    .dataframe tbody tr th:only-of-type {\n",
              "        vertical-align: middle;\n",
              "    }\n",
              "\n",
              "    .dataframe tbody tr th {\n",
              "        vertical-align: top;\n",
              "    }\n",
              "\n",
              "    .dataframe thead th {\n",
              "        text-align: right;\n",
              "    }\n",
              "</style>\n",
              "<table border=\"1\" class=\"dataframe\">\n",
              "  <thead>\n",
              "    <tr style=\"text-align: right;\">\n",
              "      <th></th>\n",
              "      <th>cantidad</th>\n",
              "    </tr>\n",
              "    <tr>\n",
              "      <th>moneda</th>\n",
              "      <th></th>\n",
              "    </tr>\n",
              "  </thead>\n",
              "  <tbody>\n",
              "    <tr>\n",
              "      <th>2000</th>\n",
              "      <td>2</td>\n",
              "    </tr>\n",
              "    <tr>\n",
              "      <th>1000</th>\n",
              "      <td>1</td>\n",
              "    </tr>\n",
              "    <tr>\n",
              "      <th>200</th>\n",
              "      <td>2</td>\n",
              "    </tr>\n",
              "    <tr>\n",
              "      <th>20</th>\n",
              "      <td>1</td>\n",
              "    </tr>\n",
              "    <tr>\n",
              "      <th>1</th>\n",
              "      <td>3</td>\n",
              "    </tr>\n",
              "  </tbody>\n",
              "</table>\n",
              "</div>"
            ],
            "text/plain": [
              "        cantidad\n",
              "moneda          \n",
              "2000           2\n",
              "1000           1\n",
              "200            2\n",
              "20             1\n",
              "1              3"
            ]
          },
          "metadata": {
            "tags": []
          }
        },
        {
          "output_type": "stream",
          "text": [
            "\n",
            "iteraciones:  53\n"
          ],
          "name": "stdout"
        }
      ]
    },
    {
      "cell_type": "markdown",
      "metadata": {
        "id": "9ijvIG0tyhRW",
        "colab_type": "text"
      },
      "source": [
        "Existen algunos sistemas de monedas en las que el método voraz no es tan eficiente como otros métodos, debido a la cantidad de iteraciones que necesita para obtenerse el cambio de moneda.\n",
        "\n",
        "Ej.:"
      ]
    },
    {
      "cell_type": "code",
      "metadata": {
        "id": "J1RuaF0ust9M",
        "colab_type": "code",
        "outputId": "1ccd1cd9-1937-481b-c934-d2e60c6dceca",
        "colab": {
          "base_uri": "https://localhost:8080/",
          "height": 143
        }
      },
      "source": [
        "monedas_no_voraces = [1, 5, 11, 20500, 35000]\n",
        "\n",
        "# mostrar resultado e iteraciones\n",
        "i, m = menor_num_monedas(monedas_no_voraces, 5423)\n",
        "display(m)\n",
        "print('\\niteraciones: ', i)"
      ],
      "execution_count": 0,
      "outputs": [
        {
          "output_type": "display_data",
          "data": {
            "text/html": [
              "<div>\n",
              "<style scoped>\n",
              "    .dataframe tbody tr th:only-of-type {\n",
              "        vertical-align: middle;\n",
              "    }\n",
              "\n",
              "    .dataframe tbody tr th {\n",
              "        vertical-align: top;\n",
              "    }\n",
              "\n",
              "    .dataframe thead th {\n",
              "        text-align: right;\n",
              "    }\n",
              "</style>\n",
              "<table border=\"1\" class=\"dataframe\">\n",
              "  <thead>\n",
              "    <tr style=\"text-align: right;\">\n",
              "      <th></th>\n",
              "      <th>cantidad</th>\n",
              "    </tr>\n",
              "    <tr>\n",
              "      <th>moneda</th>\n",
              "      <th></th>\n",
              "    </tr>\n",
              "  </thead>\n",
              "  <tbody>\n",
              "    <tr>\n",
              "      <th>11</th>\n",
              "      <td>493</td>\n",
              "    </tr>\n",
              "  </tbody>\n",
              "</table>\n",
              "</div>"
            ],
            "text/plain": [
              "        cantidad\n",
              "moneda          \n",
              "11           493"
            ]
          },
          "metadata": {
            "tags": []
          }
        },
        {
          "output_type": "stream",
          "text": [
            "\n",
            "iteraciones:  1479\n"
          ],
          "name": "stdout"
        }
      ]
    },
    {
      "cell_type": "code",
      "metadata": {
        "id": "PyLMtPgZz1kb",
        "colab_type": "code",
        "colab": {}
      },
      "source": [
        ""
      ],
      "execution_count": 0,
      "outputs": []
    }
  ]
}